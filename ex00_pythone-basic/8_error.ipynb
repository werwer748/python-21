{
 "cells": [
  {
   "cell_type": "code",
   "id": "initial_id",
   "metadata": {
    "collapsed": true
   },
   "source": [
    "try:\n",
    "    sdfasdf\n",
    "except:\n",
    "    pass # 아무것도안하고 넘어감\n",
    "    \n",
    "print(\"에러발생!!\")"
   ],
   "outputs": [],
   "execution_count": null
  },
  {
   "metadata": {
    "ExecuteTime": {
     "end_time": "2024-06-23T04:55:04.161351Z",
     "start_time": "2024-06-23T04:55:04.157554Z"
    }
   },
   "cell_type": "code",
   "source": [
    "try:\n",
    "    ;asdlf;\n",
    "except Exception as e:\n",
    "    print(\"에러 발생 원인: \", e)"
   ],
   "id": "5c8e9be74706f861",
   "outputs": [
    {
     "name": "stdout",
     "output_type": "stream",
     "text": [
      "에러 발생 원인:  name 'asdlf' is not defined\n"
     ]
    }
   ],
   "execution_count": 9
  }
 ],
 "metadata": {
  "kernelspec": {
   "display_name": "Python 3",
   "language": "python",
   "name": "python3"
  },
  "language_info": {
   "codemirror_mode": {
    "name": "ipython",
    "version": 2
   },
   "file_extension": ".py",
   "mimetype": "text/x-python",
   "name": "python",
   "nbconvert_exporter": "python",
   "pygments_lexer": "ipython2",
   "version": "2.7.6"
  }
 },
 "nbformat": 4,
 "nbformat_minor": 5
}
