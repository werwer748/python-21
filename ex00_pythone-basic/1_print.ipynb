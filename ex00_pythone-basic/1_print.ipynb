{
 "cells": [
  {
   "cell_type": "code",
   "id": "initial_id",
   "metadata": {
    "collapsed": true
   },
   "source": "print(\"hello\")",
   "outputs": [],
   "execution_count": null
  },
  {
   "metadata": {},
   "cell_type": "code",
   "source": "print('hello')",
   "id": "55f97cd54e88f67",
   "outputs": [],
   "execution_count": null
  },
  {
   "metadata": {},
   "cell_type": "code",
   "source": "print(\"hello '안녕하세요'\")",
   "id": "890a8175ef563a31",
   "outputs": [],
   "execution_count": null
  },
  {
   "metadata": {},
   "cell_type": "code",
   "source": "print('hello \"안녕하세요\"')",
   "id": "6a1854b84de9941f",
   "outputs": [],
   "execution_count": null
  },
  {
   "metadata": {},
   "cell_type": "code",
   "source": "print('안녕', '하세요', '반값습니다')",
   "id": "cc404804b6c00ee2",
   "outputs": [],
   "execution_count": null
  },
  {
   "metadata": {},
   "cell_type": "code",
   "source": "print('안녕'+'하세요'+'반값습니다')",
   "id": "8797281f9fb5e278",
   "outputs": [],
   "execution_count": null
  },
  {
   "metadata": {},
   "cell_type": "code",
   "source": [
    "print(\"\"\"안녕하세요\n",
    "오늘은 날씨가 좋네요\"\"\")"
   ],
   "id": "20f6637ee064a1f8",
   "outputs": [],
   "execution_count": null
  },
  {
   "metadata": {},
   "cell_type": "code",
   "source": [
    "print('''안녕하세요\n",
    "오늘은 날씨가 좋네요''')"
   ],
   "id": "f635b8528cc97c39",
   "outputs": [],
   "execution_count": null
  },
  {
   "metadata": {},
   "cell_type": "code",
   "source": [
    "print(\"안녕하세요 \"\\\n",
    "      \"오늘은 날씨가 좋네요\")"
   ],
   "id": "efc3a11f32ce5496",
   "outputs": [],
   "execution_count": null
  },
  {
   "metadata": {},
   "cell_type": "code",
   "source": "print(f\"a값:{a} b값:{b}\") # f-string 방식. 직관적이라 좋은듯 => 파이썬 3.6 이상부터 지원",
   "id": "9f3fc138826781d3",
   "outputs": [],
   "execution_count": null
  },
  {
   "metadata": {},
   "cell_type": "code",
   "source": [
    "a = 123\n",
    "b = '안녕하세요'\n",
    "print(\"a값:{} b값:{}\".format(a, b)) ## 순서대로~"
   ],
   "id": "1ac5ea275ca7e081",
   "outputs": [],
   "execution_count": null
  }
 ],
 "metadata": {
  "kernelspec": {
   "display_name": "Python 3",
   "language": "python",
   "name": "python3"
  },
  "language_info": {
   "codemirror_mode": {
    "name": "ipython",
    "version": 2
   },
   "file_extension": ".py",
   "mimetype": "text/x-python",
   "name": "python",
   "nbconvert_exporter": "python",
   "pygments_lexer": "ipython2",
   "version": "2.7.6"
  }
 },
 "nbformat": 4,
 "nbformat_minor": 5
}
