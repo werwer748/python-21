{
 "cells": [
  {
   "cell_type": "code",
   "id": "initial_id",
   "metadata": {
    "collapsed": true,
    "ExecuteTime": {
     "end_time": "2024-06-23T05:09:00.496968Z",
     "start_time": "2024-06-23T05:09:00.492425Z"
    }
   },
   "source": [
    "class Greet():\n",
    "    def hello(self):\n",
    "        print(\"hello!\")\n",
    "        \n",
    "    def hi(self):\n",
    "        print(\"hi\")\n",
    "\n",
    "human1 = Greet()\n",
    "human1.hello()\n",
    "human1.hi()\n",
    "\n",
    "human2 = Greet()\n",
    "human2.hi()\n",
    "human2.hello()"
   ],
   "outputs": [
    {
     "name": "stdout",
     "output_type": "stream",
     "text": [
      "hello!\n",
      "hi\n",
      "hi\n",
      "hello!\n"
     ]
    }
   ],
   "execution_count": 3
  },
  {
   "metadata": {
    "ExecuteTime": {
     "end_time": "2024-06-23T05:13:21.589264Z",
     "start_time": "2024-06-23T05:13:21.584223Z"
    }
   },
   "cell_type": "code",
   "source": [
    "class Student():\n",
    "    def __init__(self, name, age, like): # 객체 생성시 무조건 1번 실행 됨.(생성자인듯?)\n",
    "        self.name = name\n",
    "        self.age = age\n",
    "        self.like = like\n",
    "        \n",
    "    def studentInfo(self):\n",
    "        print(f\"이름: {self.name}, 나이: {self.age}, 좋아하는것: {self.like}\")\n",
    "\n",
    "kimchulsu = Student(\"김철수\", 17, \"축구\")\n",
    "soju = Student(\"강소주\", 6, \"비닐봉지\")\n",
    "\n",
    "kimchulsu.studentInfo()\n",
    "soju.studentInfo()"
   ],
   "id": "4e28825a3269ff6a",
   "outputs": [
    {
     "name": "stdout",
     "output_type": "stream",
     "text": [
      "이름: 김철수, 나이: 17, 좋아하는것: 축구\n",
      "이름: 강소주, 나이: 6, 좋아하는것: 비닐봉지\n"
     ]
    }
   ],
   "execution_count": 4
  },
  {
   "metadata": {
    "ExecuteTime": {
     "end_time": "2024-06-23T05:20:02.309658Z",
     "start_time": "2024-06-23T05:20:02.304683Z"
    }
   },
   "cell_type": "code",
   "source": [
    "class Mother():\n",
    "    def characteristic(self):\n",
    "        print(\"키가 크다\")\n",
    "        print(\"공부를 잘한다\")\n",
    "        \n",
    "class Daughter(Mother): # 재능의 상속\n",
    "    def characteristic(self):\n",
    "        super().characteristic() # 부모클래스 호출\n",
    "        print(\"운동을 잘한다\")\n",
    "        \n",
    "# 엄마 = Mother()\n",
    "# 엄마.characteristic()\n",
    "\n",
    "딸 = Daughter()\n",
    "딸.characteristic()"
   ],
   "id": "1098b17b27d5bf18",
   "outputs": [
    {
     "name": "stdout",
     "output_type": "stream",
     "text": [
      "키가 크다\n",
      "공부를 잘한다\n",
      "운동을 잘한다\n"
     ]
    }
   ],
   "execution_count": 7
  }
 ],
 "metadata": {
  "kernelspec": {
   "display_name": "Python 3",
   "language": "python",
   "name": "python3"
  },
  "language_info": {
   "codemirror_mode": {
    "name": "ipython",
    "version": 2
   },
   "file_extension": ".py",
   "mimetype": "text/x-python",
   "name": "python",
   "nbconvert_exporter": "python",
   "pygments_lexer": "ipython2",
   "version": "2.7.6"
  }
 },
 "nbformat": 4,
 "nbformat_minor": 5
}
