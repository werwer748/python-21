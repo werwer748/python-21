{
 "cells": [
  {
   "cell_type": "code",
   "id": "initial_id",
   "metadata": {
    "collapsed": true,
    "ExecuteTime": {
     "end_time": "2024-06-23T05:23:05.708402Z",
     "start_time": "2024-06-23T05:23:05.703800Z"
    }
   },
   "source": [
    "# 주석입니다.\n",
    "# 사용자 설명 코드 입니다.\n",
    "print(\"hello\") # hello를 출력하는 코드입니다."
   ],
   "outputs": [
    {
     "name": "stdout",
     "output_type": "stream",
     "text": [
      "hello\n"
     ]
    }
   ],
   "execution_count": 1
  },
  {
   "metadata": {},
   "cell_type": "code",
   "outputs": [],
   "execution_count": null,
   "source": [
    "\"\"\"\n",
    "여러줄의 코드를 주석처리하는방법은\n",
    "이렇게 쌍따옴표, 따옴표 세개로 여러줄 감싸면 됨.\n",
    "\"\"\""
   ],
   "id": "343011fd7b8a57a0"
  },
  {
   "metadata": {
    "ExecuteTime": {
     "end_time": "2024-06-23T05:24:35.528042Z",
     "start_time": "2024-06-23T05:24:35.523894Z"
    }
   },
   "cell_type": "code",
   "source": [
    "a_str = \"\"\"\n",
    "따옴표 세개는 이런식으로 \n",
    "줄이 나뉜 문자열을 저장할 떄도 씁니다.\n",
    "\"\"\"\n",
    "print(a_str)"
   ],
   "id": "e88359f9490089eb",
   "outputs": [
    {
     "name": "stdout",
     "output_type": "stream",
     "text": [
      "\n",
      "따옴표 세개는 이런식으로 \n",
      "줄이 나뉜 문자열을 저장할 떄도 씁니다.\n",
      "\n"
     ]
    }
   ],
   "execution_count": 2
  }
 ],
 "metadata": {
  "kernelspec": {
   "display_name": "Python 3",
   "language": "python",
   "name": "python3"
  },
  "language_info": {
   "codemirror_mode": {
    "name": "ipython",
    "version": 2
   },
   "file_extension": ".py",
   "mimetype": "text/x-python",
   "name": "python",
   "nbconvert_exporter": "python",
   "pygments_lexer": "ipython2",
   "version": "2.7.6"
  }
 },
 "nbformat": 4,
 "nbformat_minor": 5
}
