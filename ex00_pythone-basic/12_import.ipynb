{
 "cells": [
  {
   "cell_type": "code",
   "id": "initial_id",
   "metadata": {
    "collapsed": true,
    "ExecuteTime": {
     "end_time": "2024-06-23T05:28:12.222836Z",
     "start_time": "2024-06-23T05:28:12.218904Z"
    }
   },
   "source": [
    "import random\n",
    "\n",
    "print(random.randint(1, 10))"
   ],
   "outputs": [
    {
     "name": "stdout",
     "output_type": "stream",
     "text": [
      "9\n"
     ]
    }
   ],
   "execution_count": 41
  },
  {
   "metadata": {
    "ExecuteTime": {
     "end_time": "2024-06-23T05:29:08.056067Z",
     "start_time": "2024-06-23T05:29:08.053291Z"
    }
   },
   "cell_type": "code",
   "source": [
    "import random as rd\n",
    "\n",
    "print(rd.randint(10, 20))"
   ],
   "id": "8d7c9fa946eae14d",
   "outputs": [
    {
     "name": "stdout",
     "output_type": "stream",
     "text": [
      "18\n"
     ]
    }
   ],
   "execution_count": 42
  },
  {
   "metadata": {
    "ExecuteTime": {
     "end_time": "2024-06-23T05:29:57.046038Z",
     "start_time": "2024-06-23T05:29:57.042435Z"
    }
   },
   "cell_type": "code",
   "source": [
    "from random import randint\n",
    "\n",
    "print(randint(5, 15))"
   ],
   "id": "304f6d55c51969e5",
   "outputs": [
    {
     "name": "stdout",
     "output_type": "stream",
     "text": [
      "10\n"
     ]
    }
   ],
   "execution_count": 54
  },
  {
   "metadata": {},
   "cell_type": "code",
   "outputs": [],
   "execution_count": null,
   "source": [
    "from random import *\n",
    "\n",
    "print(randint(1, 10))"
   ],
   "id": "57e88deef8094bfe"
  }
 ],
 "metadata": {
  "kernelspec": {
   "display_name": "Python 3",
   "language": "python",
   "name": "python3"
  },
  "language_info": {
   "codemirror_mode": {
    "name": "ipython",
    "version": 2
   },
   "file_extension": ".py",
   "mimetype": "text/x-python",
   "name": "python",
   "nbconvert_exporter": "python",
   "pygments_lexer": "ipython2",
   "version": "2.7.6"
  }
 },
 "nbformat": 4,
 "nbformat_minor": 5
}
