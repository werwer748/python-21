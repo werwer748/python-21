{
 "cells": [
  {
   "cell_type": "code",
   "id": "initial_id",
   "metadata": {
    "collapsed": true
   },
   "source": [
    "for i in range(10, 5, -1):\n",
    "    print(i)"
   ],
   "outputs": [],
   "execution_count": null
  },
  {
   "metadata": {},
   "cell_type": "code",
   "source": [
    "a_list = [1,2,3,4,5,\"안녕\",\"하세요\"]\n",
    "\n",
    "for i in a_list:\n",
    "    print(i)"
   ],
   "id": "4593fe981b811fdc",
   "outputs": [],
   "execution_count": null
  },
  {
   "metadata": {},
   "cell_type": "code",
   "source": [
    "a_str = \"hello python\"\n",
    "\n",
    "for i in a_str:\n",
    "    print(i)"
   ],
   "id": "a5cfa9bf64cad06",
   "outputs": [],
   "execution_count": null
  },
  {
   "metadata": {},
   "cell_type": "code",
   "source": [
    "name_list = [\"홍길동\", \"장다인\", \"김철수\"]\n",
    "age_list=[500,5,12]\n",
    "\n",
    "print(len(name_list))\n",
    "\n",
    "for i, k in enumerate(name_list):\n",
    "    print(i, end='  ') # index\n",
    "    print(k) # value\n",
    "\n",
    "for i in range(len(name_list)):\n",
    "    print(name_list[i])"
   ],
   "id": "d36b4ae1c76b9e3f",
   "outputs": [],
   "execution_count": null
  },
  {
   "metadata": {},
   "cell_type": "code",
   "source": [
    "test_list = [i * 5 for i in range(10)] # 반복문 도는 만큼 리스트를 채운다.\n",
    "print(test_list)"
   ],
   "id": "2f945733c0da9363",
   "outputs": [],
   "execution_count": null
  },
  {
   "metadata": {},
   "cell_type": "code",
   "source": [
    "test2_list = []\n",
    "for i in range(10):\n",
    "    test2_list.append(i)\n",
    "print(test2_list)"
   ],
   "id": "f152ae29499004e0",
   "outputs": [],
   "execution_count": null
  },
  {
   "metadata": {},
   "cell_type": "code",
   "source": [
    "'''\n",
    "while True:\n",
    "    print(\"조건이 참이면 반복\")\n",
    "'''\n",
    "a = 0\n",
    "while a < 5:\n",
    "    print(a)\n",
    "    a = a + 1"
   ],
   "id": "15dc27264cdcc235",
   "outputs": [],
   "execution_count": null
  },
  {
   "metadata": {},
   "cell_type": "code",
   "source": [
    "a = 0\n",
    "while True:\n",
    "    print(a)\n",
    "    a = a + 1\n",
    "    if a >= 5:\n",
    "        break"
   ],
   "id": "f6d9349b2b44e2d",
   "outputs": [],
   "execution_count": null
  }
 ],
 "metadata": {
  "kernelspec": {
   "display_name": "Python 3",
   "language": "python",
   "name": "python3"
  },
  "language_info": {
   "codemirror_mode": {
    "name": "ipython",
    "version": 2
   },
   "file_extension": ".py",
   "mimetype": "text/x-python",
   "name": "python",
   "nbconvert_exporter": "python",
   "pygments_lexer": "ipython2",
   "version": "2.7.6"
  }
 },
 "nbformat": 4,
 "nbformat_minor": 5
}
