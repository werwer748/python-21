{
 "cells": [
  {
   "cell_type": "code",
   "id": "initial_id",
   "metadata": {
    "collapsed": true
   },
   "source": [
    "a = 10\n",
    "b = 10\n",
    "c = a + b\n",
    "\n",
    "print(c)"
   ],
   "outputs": [],
   "execution_count": null
  },
  {
   "metadata": {},
   "cell_type": "code",
   "source": [
    "d = '10'\n",
    "#! print(c + d) # TypeError: unsupported operand type(s) for +: 'int' and 'str'\n",
    "print(c + int(d))"
   ],
   "id": "3a15f5d90466260b",
   "outputs": [],
   "execution_count": null
  },
  {
   "metadata": {},
   "cell_type": "code",
   "source": [
    "e = 3.14\n",
    "f = 10\n",
    "\n",
    "print(e + f) # f가 자동으로 실수형으로 형변환되서 더해짐."
   ],
   "id": "add89a26322fc481",
   "outputs": [],
   "execution_count": null
  },
  {
   "metadata": {},
   "cell_type": "code",
   "source": [
    "a = 10\n",
    "b = 10\n",
    "c = float(a) + float(b)\n",
    "print(c) # 20.0"
   ],
   "id": "55a5326f48a4bb5a",
   "outputs": [],
   "execution_count": null
  },
  {
   "metadata": {},
   "cell_type": "code",
   "source": [
    "# Boolean\n",
    "a_bool = True\n",
    "b_bool = False\n",
    "\n",
    "a_int = 1\n",
    "b_int = 1\n",
    "\n",
    "print(a_bool)\n",
    "print(type(b_bool))\n",
    "\n",
    "print(a_int)\n",
    "print(type(b_int))"
   ],
   "id": "8431986b9e2cd73e",
   "outputs": [],
   "execution_count": null
  }
 ],
 "metadata": {
  "kernelspec": {
   "display_name": "Python 3",
   "language": "python",
   "name": "python3"
  },
  "language_info": {
   "codemirror_mode": {
    "name": "ipython",
    "version": 2
   },
   "file_extension": ".py",
   "mimetype": "text/x-python",
   "name": "python",
   "nbconvert_exporter": "python",
   "pygments_lexer": "ipython2",
   "version": "2.7.6"
  }
 },
 "nbformat": 4,
 "nbformat_minor": 5
}
