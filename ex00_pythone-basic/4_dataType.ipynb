{
 "cells": [
  {
   "cell_type": "code",
   "id": "initial_id",
   "metadata": {
    "collapsed": true
   },
   "source": [
    "a_list = [1, 2, 3, 4, 5] # 여러개의 값을 가진다.\n",
    "\n",
    "print(a_list)\n",
    "print(a_list[0]) # 0번째\n",
    "print(a_list[1]) # 1번째"
   ],
   "outputs": [],
   "execution_count": null
  },
  {
   "metadata": {},
   "cell_type": "code",
   "source": [
    "print(a_list[:2]) # 2번째 전까지!\n",
    "print(a_list[2:]) # 2번째부터 (이후부터가 아님)"
   ],
   "id": "545b3b33285d2431",
   "outputs": [],
   "execution_count": null
  },
  {
   "metadata": {},
   "cell_type": "code",
   "source": [
    "b_list = []\n",
    "b_list.append(1)\n",
    "b_list.append(3)\n",
    "b_list.append(4)\n",
    "print(b_list)"
   ],
   "id": "bd6f3da9c4a13355",
   "outputs": [],
   "execution_count": null
  },
  {
   "metadata": {},
   "cell_type": "code",
   "source": [
    "c_list = [1, 3.14, \"hello\", [1, 2, 3]] # 리스트 내에 다양한 타입의 자료가 추가될 수 있다.\n",
    "print(c_list)\n",
    "print(c_list[1:3])"
   ],
   "id": "689f8b5b6dcef0b4",
   "outputs": [],
   "execution_count": null
  },
  {
   "metadata": {},
   "cell_type": "code",
   "source": [
    "d_list = [1, 2, 3, 4, 5]\n",
    "print(d_list)\n",
    "d_list[0] = 5\n",
    "print(d_list)"
   ],
   "id": "cbfd275611ad2617",
   "outputs": [],
   "execution_count": null
  },
  {
   "metadata": {},
   "cell_type": "code",
   "source": [
    "a_tuple = (1, 2, 3, 4, 5)\n",
    "print(a_tuple)"
   ],
   "id": "abfc6a99e3c46fab",
   "outputs": [],
   "execution_count": null
  },
  {
   "metadata": {},
   "cell_type": "code",
   "source": "#! a_tuple[0] = 5 # 에러발생 - 튜플은 값을 변경할 수 없다!",
   "id": "6e4c4496682f3183",
   "outputs": [],
   "execution_count": null
  },
  {
   "metadata": {},
   "cell_type": "code",
   "source": [
    "a_dic = { 'a': 1, 'b': 2, 'c': 3 }\n",
    "\n",
    "print(a_dic)\n",
    "print(a_dic['a'])\n",
    "print(a_dic['b'])\n",
    "print(a_dic['c'])"
   ],
   "id": "1fa19d11092c2936",
   "outputs": [],
   "execution_count": null
  },
  {
   "metadata": {},
   "cell_type": "code",
   "source": [
    "b_dic = { 1: 'a', 'b': [1,2,3], 'c': 3 }\n",
    "\n",
    "print(b_dic[1])\n",
    "print(b_dic['b'])\n",
    "print(b_dic['c'])"
   ],
   "id": "6ee7be74d033ecd8",
   "outputs": [],
   "execution_count": null
  },
  {
   "metadata": {},
   "cell_type": "code",
   "source": [
    "b_dic['d'] = 4\n",
    "print(b_dic)"
   ],
   "id": "1d353f82dd8a49dc",
   "outputs": [],
   "execution_count": null
  },
  {
   "metadata": {},
   "cell_type": "code",
   "source": [
    "a_set = set([1, 2, 3, 4])\n",
    "print(a_set)"
   ],
   "id": "1dc22f02987c77",
   "outputs": [],
   "execution_count": null
  },
  {
   "metadata": {},
   "cell_type": "code",
   "source": [
    "b_set = set([1,1, 2,2,3,3,4,4,5,6])\n",
    "print(b_set)"
   ],
   "id": "e7ce0ea76655c8d5",
   "outputs": [],
   "execution_count": null
  },
  {
   "metadata": {},
   "cell_type": "code",
   "source": [
    "c_set = set(\"python40s\")\n",
    "print(c_set) # 순서대로 문자열이 나뉘지 않음"
   ],
   "id": "5b05f5e36c83de86",
   "outputs": [],
   "execution_count": null
  }
 ],
 "metadata": {
  "kernelspec": {
   "display_name": "Python 3",
   "language": "python",
   "name": "python3"
  },
  "language_info": {
   "codemirror_mode": {
    "name": "ipython",
    "version": 2
   },
   "file_extension": ".py",
   "mimetype": "text/x-python",
   "name": "python",
   "nbconvert_exporter": "python",
   "pygments_lexer": "ipython2",
   "version": "2.7.6"
  }
 },
 "nbformat": 4,
 "nbformat_minor": 5
}
