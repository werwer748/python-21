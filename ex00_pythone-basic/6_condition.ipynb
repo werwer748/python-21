{
 "cells": [
  {
   "cell_type": "code",
   "id": "initial_id",
   "metadata": {
    "collapsed": true,
    "ExecuteTime": {
     "end_time": "2024-06-23T03:11:46.477584Z",
     "start_time": "2024-06-23T03:11:46.472733Z"
    }
   },
   "source": [
    "a = 1\n",
    "b = 2\n",
    "\n",
    "if a == b:\n",
    "    print(\"두개의 값은 같다.\")\n",
    "    \n",
    "if a != b:\n",
    "    print(\"두개의 값은 같지않다.\")"
   ],
   "outputs": [
    {
     "name": "stdout",
     "output_type": "stream",
     "text": [
      "두개의 값은 같지않다.\n"
     ]
    }
   ],
   "execution_count": 2
  },
  {
   "metadata": {
    "ExecuteTime": {
     "end_time": "2024-06-23T03:12:24.111536Z",
     "start_time": "2024-06-23T03:12:24.107681Z"
    }
   },
   "cell_type": "code",
   "source": [
    "a = 1\n",
    "b = 2\n",
    "\n",
    "if a == b:\n",
    "    print(\"두개의 값은 같다.\")\n",
    "else:\n",
    "    print(\"두개의 값은 같지않다.\")"
   ],
   "id": "69a065fcbff4bf8d",
   "outputs": [
    {
     "name": "stdout",
     "output_type": "stream",
     "text": [
      "두개의 값은 같지않다.\n"
     ]
    }
   ],
   "execution_count": 3
  },
  {
   "metadata": {
    "ExecuteTime": {
     "end_time": "2024-06-23T03:13:54.565877Z",
     "start_time": "2024-06-23T03:13:54.563215Z"
    }
   },
   "cell_type": "code",
   "source": [
    "a = 2\n",
    "b = 2\n",
    "\n",
    "if a > b:\n",
    "    print(\"a 값이 더 크다.\") ## 참일 확률이 높은 코드를 더 위에 써주면 성능상에 이득이 있을 수 있다.\n",
    "elif a < b:\n",
    "    print(\"b 값이 더 크다.\")\n",
    "else:\n",
    "    print(\"두 개의 값은 같다.\")"
   ],
   "id": "c5b864f46ac5248d",
   "outputs": [
    {
     "name": "stdout",
     "output_type": "stream",
     "text": [
      "두 개의 값은 같다.\n"
     ]
    }
   ],
   "execution_count": 5
  },
  {
   "metadata": {
    "ExecuteTime": {
     "end_time": "2024-06-23T03:16:27.940898Z",
     "start_time": "2024-06-23T03:16:27.937005Z"
    }
   },
   "cell_type": "code",
   "source": [
    "a = 2\n",
    "b = 2\n",
    "c = 2\n",
    "d = 2\n",
    "\n",
    "if a == b and c == d:\n",
    "    print(\"두 조건 모두 만족\")\n",
    "    \n",
    "if a == b or c == d:\n",
    "    print(\"두 조건 중 하나라도 만족\")"
   ],
   "id": "decf3e2b9bca36d9",
   "outputs": [
    {
     "name": "stdout",
     "output_type": "stream",
     "text": [
      "두 조건 모두 만족\n",
      "두 조건 중 하나라도 만족\n"
     ]
    }
   ],
   "execution_count": 7
  },
  {
   "metadata": {
    "ExecuteTime": {
     "end_time": "2024-06-23T03:17:16.460566Z",
     "start_time": "2024-06-23T03:17:16.457473Z"
    }
   },
   "cell_type": "code",
   "source": [
    "#? if문은 1 이상이면 모두 참으로 인식함\n",
    "if 1:\n",
    "    print(\"참\")"
   ],
   "id": "3de1c5fa5d26371c",
   "outputs": [
    {
     "name": "stdout",
     "output_type": "stream",
     "text": [
      "참\n"
     ]
    }
   ],
   "execution_count": 9
  }
 ],
 "metadata": {
  "kernelspec": {
   "display_name": "Python 3",
   "language": "python",
   "name": "python3"
  },
  "language_info": {
   "codemirror_mode": {
    "name": "ipython",
    "version": 2
   },
   "file_extension": ".py",
   "mimetype": "text/x-python",
   "name": "python",
   "nbconvert_exporter": "python",
   "pygments_lexer": "ipython2",
   "version": "2.7.6"
  }
 },
 "nbformat": 4,
 "nbformat_minor": 5
}
