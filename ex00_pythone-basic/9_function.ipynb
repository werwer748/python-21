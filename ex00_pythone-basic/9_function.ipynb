{
 "cells": [
  {
   "cell_type": "code",
   "id": "initial_id",
   "metadata": {
    "collapsed": true
   },
   "source": [
    "def func(): # 함수 정의\n",
    "    print(\"안녕하세요.\")\n",
    "    print(\"파이썬과 40개의 작품들 입니다.\")\n",
    "    \n",
    "for i in range(3):\n",
    "    func()"
   ],
   "outputs": [],
   "execution_count": null
  },
  {
   "metadata": {
    "ExecuteTime": {
     "end_time": "2024-06-23T04:58:34.604200Z",
     "start_time": "2024-06-23T04:58:34.601767Z"
    }
   },
   "cell_type": "code",
   "source": [
    "def funcAdd(a, b):\n",
    "    return a + b\n",
    "\n",
    "c = funcAdd(1, 2)\n",
    "print(c)"
   ],
   "id": "4ef89843fb6032c9",
   "outputs": [
    {
     "name": "stdout",
     "output_type": "stream",
     "text": [
      "3\n"
     ]
    }
   ],
   "execution_count": 4
  },
  {
   "metadata": {
    "ExecuteTime": {
     "end_time": "2024-06-23T04:59:59.529746Z",
     "start_time": "2024-06-23T04:59:59.526342Z"
    }
   },
   "cell_type": "code",
   "source": [
    "def funcMux(a, b):\n",
    "    return a * b\n",
    "\n",
    "c = funcMux(1, 2)\n",
    "print(c)"
   ],
   "id": "527e638d9c552391",
   "outputs": [
    {
     "name": "stdout",
     "output_type": "stream",
     "text": [
      "2\n"
     ]
    }
   ],
   "execution_count": 5
  },
  {
   "metadata": {
    "ExecuteTime": {
     "end_time": "2024-06-23T05:02:54.286216Z",
     "start_time": "2024-06-23T05:02:54.281508Z"
    }
   },
   "cell_type": "code",
   "source": [
    "def funcAddMux(a, b):\n",
    "    add = a + b\n",
    "    mux = a * b\n",
    "    return add, mux\n",
    "\n",
    "a, b = funcAddMux(3, 5)\n",
    "_, c = funcAddMux(1, 3)\n",
    "d = funcAddMux(2, 4)[0]\n",
    "\n",
    "print(a)\n",
    "print(b)\n",
    "print(c)\n",
    "print(d)"
   ],
   "id": "436e2a1d0fde9cbc",
   "outputs": [
    {
     "name": "stdout",
     "output_type": "stream",
     "text": [
      "8\n",
      "15\n",
      "3\n",
      "6\n"
     ]
    }
   ],
   "execution_count": 8
  },
  {
   "metadata": {},
   "cell_type": "code",
   "outputs": [],
   "execution_count": null,
   "source": "",
   "id": "8fb890a68fdf1ff3"
  }
 ],
 "metadata": {
  "kernelspec": {
   "display_name": "Python 3",
   "language": "python",
   "name": "python3"
  },
  "language_info": {
   "codemirror_mode": {
    "name": "ipython",
    "version": 2
   },
   "file_extension": ".py",
   "mimetype": "text/x-python",
   "name": "python",
   "nbconvert_exporter": "python",
   "pygments_lexer": "ipython2",
   "version": "2.7.6"
  }
 },
 "nbformat": 4,
 "nbformat_minor": 5
}
