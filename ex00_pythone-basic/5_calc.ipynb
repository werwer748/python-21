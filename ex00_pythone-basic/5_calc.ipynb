{
 "cells": [
  {
   "cell_type": "code",
   "id": "initial_id",
   "metadata": {
    "collapsed": true
   },
   "source": [
    "print(\"더하기: \", 10 + 20)\n",
    "print(\"빼기: \", 10 - 20)\n",
    "print(\"곱하기: \", 10 * 20)\n",
    "print(\"나누기: \", 10 / 20)"
   ],
   "outputs": [],
   "execution_count": null
  },
  {
   "metadata": {},
   "cell_type": "code",
   "source": [
    "print(\"**2\", 10**2)\n",
    "print(\"**3\", 10**3)\n",
    "\n",
    "print(1024**3) ## 메모리 계산할때 유용하다고 함."
   ],
   "id": "b704bb88bd4c658a",
   "outputs": [],
   "execution_count": null
  },
  {
   "metadata": {},
   "cell_type": "code",
   "source": [
    "print(\"몫: \", 40//6)\n",
    "print(\"나머지: \", 40%6)"
   ],
   "id": "3620502a8eefbc67",
   "outputs": [],
   "execution_count": null
  },
  {
   "metadata": {},
   "cell_type": "markdown",
   "source": [
    "and - 모든 조건이 참이면 참\n",
    "\n",
    "or - 조건중 하나라도 참이면 참\n",
    "\n",
    "not - 참 -> 거짓 --- 거짓 -> 참 으로 반전시킴"
   ],
   "id": "31441154ae8815eb"
  },
  {
   "metadata": {},
   "cell_type": "code",
   "source": [
    "print(0 or 0)\n",
    "print(0 or 1)\n",
    "print(1 or 1)\n",
    "print(not 1)"
   ],
   "id": "55618512c0799a15",
   "outputs": [],
   "execution_count": null
  },
  {
   "metadata": {},
   "cell_type": "code",
   "source": [
    "print(10 == 10)\n",
    "print(10 >= 10)\n",
    "print(10 <= 10)\n",
    "print(10 < 5)\n",
    "print(10 > 5)\n",
    "print(10 != 10)"
   ],
   "id": "3fcd6063ba87e920",
   "outputs": [],
   "execution_count": null
  },
  {
   "metadata": {},
   "cell_type": "code",
   "source": [
    "a_list = ['a', 2, 'hello', 3]\n",
    "\n",
    "print('a' in a_list)\n",
    "print(1 in a_list)"
   ],
   "id": "1d794f967dfa2338",
   "outputs": [],
   "execution_count": null
  },
  {
   "metadata": {},
   "cell_type": "code",
   "source": [
    "a_str = \"hello python\"\n",
    "\n",
    "print(\"python\" in a_str)\n",
    "print(\"py\" in a_str)\n",
    "print(\"40\" not in a_str)"
   ],
   "id": "5ab4fdd1c101994e",
   "outputs": [],
   "execution_count": null
  }
 ],
 "metadata": {
  "kernelspec": {
   "display_name": "Python 3",
   "language": "python",
   "name": "python3"
  },
  "language_info": {
   "codemirror_mode": {
    "name": "ipython",
    "version": 2
   },
   "file_extension": ".py",
   "mimetype": "text/x-python",
   "name": "python",
   "nbconvert_exporter": "python",
   "pygments_lexer": "ipython2",
   "version": "2.7.6"
  }
 },
 "nbformat": 4,
 "nbformat_minor": 5
}
